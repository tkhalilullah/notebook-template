{
 "cells": [
  {
   "cell_type": "code",
   "execution_count": null,
   "id": "e29cb909",
   "metadata": {},
   "outputs": [
    {
     "name": "stderr",
     "output_type": "stream",
     "text": [
      "Updating HTML index of packages in '.Library'\n",
      "\n",
      "Making 'packages.html' ...\n",
      " done\n",
      "\n",
      "'getOption(\"repos\")' replaces Bioconductor standard repositories, see\n",
      "'?repositories' for details\n",
      "\n",
      "replacement repositories:\n",
      "    CRAN: https://cran.r-project.org\n",
      "\n",
      "\n",
      "Bioconductor version 3.13 (BiocManager 1.30.16), R 4.1.1 (2021-08-10)\n",
      "\n",
      "Installing package(s) 'BiocVersion', 'GenomicScores'\n",
      "\n",
      "also installing the dependencies ‘png’, ‘KEGGREST’, ‘matrixStats’, ‘filelock’, ‘AnnotationDbi’, ‘interactiveDisplayBase’, ‘Rhdf5lib’, ‘rhdf5filters’, ‘MatrixGenerics’, ‘XML’, ‘Biobase’, ‘BiocFileCache’, ‘Biostrings’, ‘AnnotationHub’, ‘rhdf5’, ‘DelayedArray’, ‘HDF5Array’\n",
      "\n",
      "\n",
      "Updating HTML index of packages in '.Library'\n",
      "\n",
      "Making 'packages.html' ...\n",
      " done\n",
      "\n",
      "Old packages: 'caret', 'data.table', 'desc', 'fansi', 'GenomeInfoDb',\n",
      "  'googlesheets4', 'knitr', 'later', 'mime', 'rcmdcheck', 'RcppArmadillo',\n",
      "  'readr', 'recipes', 'remotes', 'RSQLite', 'S4Vectors', 'shiny', 'tibble',\n",
      "  'tidymodels', 'tidyr', 'tinytex', 'xfun'\n",
      "\n",
      "'getOption(\"repos\")' replaces Bioconductor standard repositories, see\n",
      "'?repositories' for details\n",
      "\n",
      "replacement repositories:\n",
      "    CRAN: https://cran.r-project.org\n",
      "\n",
      "\n",
      "Bioconductor version 3.13 (BiocManager 1.30.16), R 4.1.1 (2021-08-10)\n",
      "\n",
      "Installing package(s) 'phastCons100way.UCSC.hg19'\n",
      "\n",
      "also installing the dependencies ‘formatR’, ‘lambda.r’, ‘futile.options’, ‘SummarizedExperiment’, ‘rjson’, ‘futile.logger’, ‘snow’, ‘BH’, ‘GenomicAlignments’, ‘BiocIO’, ‘restfulr’, ‘BiocParallel’, ‘Rhtslib’, ‘rtracklayer’, ‘Rsamtools’, ‘BSgenome’\n",
      "\n",
      "\n"
     ]
    }
   ],
   "source": [
    "if (!requireNamespace(\"BiocManager\", quietly = TRUE))\n",
    "    install.packages(\"BiocManager\")\n",
    "\n",
    "BiocManager::install(\"GenomicScores\")\n",
    "BiocManager::install(\"phastCons100way.UCSC.hg19\")\n",
    "library(GenomicScores)\n",
    "library(phastCons100way.UCSC.hg19)\n",
    "phast <- phastCons100way.UCSC.hg19\n",
    "\n",
    "IMRconsv <- data.frame(matrix(NA, nrow = nrow(iTSS.1kb[1]), ncol = 1001))\n",
    "for (i in 1:nrow(iTSS.1kb)) {\n",
    "  scores <- gscores(phast, GRanges(seqnames = iTSS.1kb$Chr[i], IRanges(start = iTSS.1kb$Start[i]:iTSS.1kb$End[i], width = 1)), scores.only = T)\n",
    "  IMRconsv[i,] <- scores[,1]\n",
    "}\n",
    "\n",
    "library(ggplot2)\n",
    "consv.plot <- data.frame(matrix(NA, nrow = 1001, ncol = 2))                 \n",
    "consv.plot[,2] <- colMeans(IMRconsv, na.rm = T)\n",
    "consv.plot[,1] <- -500:500\n",
    "colnames(consv.plot) <- c(\"position\", \"score\")\n",
    "\n",
    "p <- ggplot(data = consv.plot, aes(x=position, y=score, group=1)) + geom_line() + geom_point() + geom_smooth() +\n",
    "  labs(title = \"Conservation Scores Flanking Induced eRNA TSS (IMR)\") + theme(plot.title = element_text(hjust=0.5, face = \"bold\"))\n",
    "ggsave(\"ieIMR1kb_consv.png\")"
   ]
  },
  {
   "cell_type": "code",
   "execution_count": null,
   "id": "dffc39c9-ea67-4dc8-96e3-018f3c36b228",
   "metadata": {},
   "outputs": [],
   "source": []
  }
 ],
 "metadata": {
  "kernelspec": {
   "display_name": "R",
   "language": "R",
   "name": "ir"
  },
  "language_info": {
   "codemirror_mode": "r",
   "file_extension": ".r",
   "mimetype": "text/x-r-source",
   "name": "R",
   "pygments_lexer": "r",
   "version": "4.1.1"
  }
 },
 "nbformat": 4,
 "nbformat_minor": 5
}
